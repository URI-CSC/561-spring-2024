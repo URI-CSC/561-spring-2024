{
 "cells": [
  {
   "cell_type": "code",
   "execution_count": 7,
   "metadata": {},
   "outputs": [],
   "source": [
    "import torch\n",
    "from torchvision import datasets, transforms"
   ]
  },
  {
   "cell_type": "code",
   "execution_count": 2,
   "metadata": {},
   "outputs": [],
   "source": [
    "class MLP(torch.nn.Module):\n",
    "    def __init__(self):\n",
    "        super(MLP, self).__init__()\n",
    "        self.fc1 = torch.nn.Linear(28*28, 512)\n",
    "        self.d1 = torch.nn.Dropout(0.4)\n",
    "        self.fc2 = torch.nn.Linear(512, 512)\n",
    "        self.d2 = torch.nn.Dropout(0.4)\n",
    "        self.fc3 = torch.nn.Linear(512, 10)\n",
    "\n",
    "    def forward(self, x):\n",
    "        x = x.view(-1, 28*28)\n",
    "        x = torch.nn.functional.relu(self.fc1(x))\n",
    "        x = self.d1(x)\n",
    "        x = torch.nn.functional.relu(self.fc2(x))\n",
    "        x = self.d2(x)\n",
    "        # note that a softmax is not being used explicitly here\n",
    "        x = self.fc3(x)\n",
    "        return x"
   ]
  },
  {
   "cell_type": "code",
   "execution_count": 3,
   "metadata": {},
   "outputs": [],
   "source": [
    "def train(model, device, loader, opt, epoch, log_every=1):\n",
    "    model.train()\n",
    "    for batch_idx, (data, target) in enumerate(loader):\n",
    "        data, target = data.to(device), target.to(device)\n",
    "        opt.zero_grad()\n",
    "        output = model(data)\n",
    "        # Compute the cross entropy loss between input logits and target\n",
    "        # it means that predictions are not normalized into a probability distribution\n",
    "        loss = torch.nn.functional.cross_entropy(output, target)\n",
    "        loss.backward()\n",
    "        opt.step()\n",
    "        if batch_idx % log_every == 0:\n",
    "            print('Train Epoch: {} [{}/{} ({:.0f}%)]\\tLoss: {:.6f}'.format(\n",
    "                epoch, batch_idx * len(data), len(loader.dataset),\n",
    "                100. * batch_idx / len(loader), loss.item()))\n",
    "            \n",
    "def test(model, device, loader):\n",
    "    model.eval()\n",
    "    test_loss = 0\n",
    "    correct = 0\n",
    "    with torch.no_grad():\n",
    "        for data, target in loader:\n",
    "            data, target = data.to(device), target.to(device)\n",
    "            output = model(data)\n",
    "            test_loss += torch.nn.functional.cross_entropy(output, target, reduction='sum').item()\n",
    "            pred = output.argmax(dim=1, keepdim=True)\n",
    "            correct += pred.eq(target.view_as(pred)).sum().item()\n",
    "    test_loss /= len(loader.dataset)\n",
    "    print('\\nTest set: Average loss: {:.4f}, Accuracy: {}/{} ({:.0f}%)\\n'.format(\n",
    "        test_loss, correct, len(loader.dataset),\n",
    "        100. * correct / len(loader.dataset)))"
   ]
  },
  {
   "cell_type": "code",
   "execution_count": 4,
   "metadata": {},
   "outputs": [],
   "source": [
    "# define constants (hyperparameters)\n",
    "device = torch.device('cuda' if torch.cuda.is_available() else 'cpu')\n",
    "b_size = 64\n",
    "l_rate = 0.0005\n",
    "n_epochs = 5"
   ]
  },
  {
   "cell_type": "code",
   "execution_count": 5,
   "metadata": {},
   "outputs": [],
   "source": [
    "# define the transformations\n",
    "transform=transforms.Compose([\n",
    "    transforms.ToTensor(),\n",
    "    transforms.Normalize((0.1307,), (0.3081,))\n",
    "])\n",
    "# load the MNIST data\n",
    "train_data = datasets.MNIST('~/.cache/', train=True, download=True, transform=transform)\n",
    "test_data = datasets.MNIST('~/.cache/', train=False, download=True, transform=transform)\n",
    "# create data loaders\n",
    "train_loader = torch.utils.data.DataLoader(train_data, batch_size=b_size, shuffle=True)\n",
    "test_loader = torch.utils.data.DataLoader(test_data, batch_size=len(test_data), shuffle=False)\n"
   ]
  },
  {
   "cell_type": "code",
   "execution_count": 6,
   "metadata": {},
   "outputs": [
    {
     "name": "stdout",
     "output_type": "stream",
     "text": [
      "Train Epoch: 0 [0/60000 (0%)]\tLoss: 2.342268\n",
      "Train Epoch: 0 [6400/60000 (11%)]\tLoss: 0.434161\n",
      "Train Epoch: 0 [12800/60000 (21%)]\tLoss: 0.466048\n",
      "Train Epoch: 0 [19200/60000 (32%)]\tLoss: 0.225441\n",
      "Train Epoch: 0 [25600/60000 (43%)]\tLoss: 0.139917\n",
      "Train Epoch: 0 [32000/60000 (53%)]\tLoss: 0.248043\n",
      "Train Epoch: 0 [38400/60000 (64%)]\tLoss: 0.151754\n",
      "Train Epoch: 0 [44800/60000 (75%)]\tLoss: 0.257226\n",
      "Train Epoch: 0 [51200/60000 (85%)]\tLoss: 0.239137\n",
      "Train Epoch: 0 [57600/60000 (96%)]\tLoss: 0.107415\n",
      "\n",
      "Test set: Average loss: 0.1224, Accuracy: 9611/10000 (96%)\n",
      "\n",
      "Train Epoch: 1 [0/60000 (0%)]\tLoss: 0.110453\n",
      "Train Epoch: 1 [6400/60000 (11%)]\tLoss: 0.174895\n",
      "Train Epoch: 1 [12800/60000 (21%)]\tLoss: 0.038679\n",
      "Train Epoch: 1 [19200/60000 (32%)]\tLoss: 0.050180\n",
      "Train Epoch: 1 [25600/60000 (43%)]\tLoss: 0.124657\n",
      "Train Epoch: 1 [32000/60000 (53%)]\tLoss: 0.082266\n",
      "Train Epoch: 1 [38400/60000 (64%)]\tLoss: 0.398716\n",
      "Train Epoch: 1 [44800/60000 (75%)]\tLoss: 0.107789\n",
      "Train Epoch: 1 [51200/60000 (85%)]\tLoss: 0.052293\n",
      "Train Epoch: 1 [57600/60000 (96%)]\tLoss: 0.079048\n",
      "\n",
      "Test set: Average loss: 0.0961, Accuracy: 9690/10000 (97%)\n",
      "\n",
      "Train Epoch: 2 [0/60000 (0%)]\tLoss: 0.037963\n",
      "Train Epoch: 2 [6400/60000 (11%)]\tLoss: 0.252254\n",
      "Train Epoch: 2 [12800/60000 (21%)]\tLoss: 0.096431\n",
      "Train Epoch: 2 [19200/60000 (32%)]\tLoss: 0.101889\n",
      "Train Epoch: 2 [25600/60000 (43%)]\tLoss: 0.158405\n",
      "Train Epoch: 2 [32000/60000 (53%)]\tLoss: 0.116390\n",
      "Train Epoch: 2 [38400/60000 (64%)]\tLoss: 0.041661\n",
      "Train Epoch: 2 [44800/60000 (75%)]\tLoss: 0.151547\n",
      "Train Epoch: 2 [51200/60000 (85%)]\tLoss: 0.031639\n",
      "Train Epoch: 2 [57600/60000 (96%)]\tLoss: 0.129681\n",
      "\n",
      "Test set: Average loss: 0.0746, Accuracy: 9752/10000 (98%)\n",
      "\n",
      "Train Epoch: 3 [0/60000 (0%)]\tLoss: 0.139170\n",
      "Train Epoch: 3 [6400/60000 (11%)]\tLoss: 0.055425\n",
      "Train Epoch: 3 [12800/60000 (21%)]\tLoss: 0.095474\n",
      "Train Epoch: 3 [19200/60000 (32%)]\tLoss: 0.056255\n",
      "Train Epoch: 3 [25600/60000 (43%)]\tLoss: 0.077144\n",
      "Train Epoch: 3 [32000/60000 (53%)]\tLoss: 0.181692\n",
      "Train Epoch: 3 [38400/60000 (64%)]\tLoss: 0.048913\n",
      "Train Epoch: 3 [44800/60000 (75%)]\tLoss: 0.049384\n",
      "Train Epoch: 3 [51200/60000 (85%)]\tLoss: 0.054600\n",
      "Train Epoch: 3 [57600/60000 (96%)]\tLoss: 0.142437\n",
      "\n",
      "Test set: Average loss: 0.0754, Accuracy: 9780/10000 (98%)\n",
      "\n",
      "Train Epoch: 4 [0/60000 (0%)]\tLoss: 0.111191\n",
      "Train Epoch: 4 [6400/60000 (11%)]\tLoss: 0.064074\n",
      "Train Epoch: 4 [12800/60000 (21%)]\tLoss: 0.014585\n",
      "Train Epoch: 4 [19200/60000 (32%)]\tLoss: 0.065534\n",
      "Train Epoch: 4 [25600/60000 (43%)]\tLoss: 0.145534\n",
      "Train Epoch: 4 [32000/60000 (53%)]\tLoss: 0.039719\n",
      "Train Epoch: 4 [38400/60000 (64%)]\tLoss: 0.083120\n",
      "Train Epoch: 4 [44800/60000 (75%)]\tLoss: 0.045925\n",
      "Train Epoch: 4 [51200/60000 (85%)]\tLoss: 0.149671\n",
      "Train Epoch: 4 [57600/60000 (96%)]\tLoss: 0.040590\n",
      "\n",
      "Test set: Average loss: 0.0620, Accuracy: 9792/10000 (98%)\n",
      "\n"
     ]
    }
   ],
   "source": [
    "model = MLP().to(device)\n",
    "optimizer = torch.optim.AdamW(model.parameters(), lr=l_rate)\n",
    "\n",
    "for epoch in range(n_epochs):\n",
    "    train(model, device, train_loader, optimizer, epoch, log_every=100)\n",
    "    test(model, device, test_loader)"
   ]
  }
 ],
 "metadata": {
  "kernelspec": {
   "display_name": "Python 3",
   "language": "python",
   "name": "python3"
  },
  "language_info": {
   "codemirror_mode": {
    "name": "ipython",
    "version": 3
   },
   "file_extension": ".py",
   "mimetype": "text/x-python",
   "name": "python",
   "nbconvert_exporter": "python",
   "pygments_lexer": "ipython3",
   "version": "3.9.6"
  }
 },
 "nbformat": 4,
 "nbformat_minor": 2
}
